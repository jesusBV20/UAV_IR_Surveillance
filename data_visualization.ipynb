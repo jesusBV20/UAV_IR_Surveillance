{
 "cells": [
  {
   "cell_type": "code",
   "execution_count": 1,
   "metadata": {},
   "outputs": [],
   "source": [
    "import os\n",
    "import numpy as np\n",
    "import pandas as pd\n",
    "import matplotlib.pylab as plt\n",
    "\n",
    "from UAVIR_tools import BIRDSAIDataset, imgBoxes\n",
    "from torchvision import transforms as T\n",
    "\n",
    "def frameVisualicer(dataset, movie_id, frame, \n",
    "                    figsize = [16, 9/2], res = 1920):\n",
    "    # Recogemos información sobre el frame\n",
    "    frame_init, frame_end, n_frames = dataset.getMovieBoxInfo(movie_id)\n",
    "\n",
    "    # Recogemos la img del dataset\n",
    "    img, target = dataset[frame_init + frame]\n",
    "    print(target[\"boxes\"])\n",
    "\n",
    "    # Mostramos el resultado\n",
    "    img_box_real = imgBoxes(img, target[\"boxes\"], target[\"labels\"])\n",
    "\n",
    "    fig = plt.figure(figsize=figsize, dpi=res/figsize[0])\n",
    "    ax1, ax2 = fig.subplots(1,2)\n",
    "    plt.subplots_adjust(wspace=-0.2)\n",
    "\n",
    "    ax1.axis('off')\n",
    "    ax2.axis(\"off\")\n",
    "\n",
    "    ax1.set_title(\"Imágen original\")\n",
    "    ax2.set_title(\"Imágen original etiquetada\")\n",
    "\n",
    "    ax1.imshow(img)\n",
    "    ax2.imshow(img_box_real)\n",
    "    plt.show()"
   ]
  },
  {
   "cell_type": "code",
   "execution_count": 5,
   "metadata": {},
   "outputs": [
    {
     "name": "stdout",
     "output_type": "stream",
     "text": [
      "tensor([[534.,   2., 608.,  80.],\n",
      "        [249., 292., 275., 313.],\n",
      "        [318., 418., 338., 451.]])\n"
     ]
    },
    {
     "data": {
      "image/png": "[encoded data removed]",
      "text/plain": [
       "<Figure size 1920x540 with 2 Axes>"
      ]
     },
     "metadata": {},
     "output_type": "display_data"
    }
   ],
   "source": [
    "DATA_PATH = \"D:\\Datos\\TrainSimulation\"\n",
    "\n",
    "# Dargamos el dataset\n",
    "dataset = BIRDSAIDataset(DATA_PATH)\n",
    "\n",
    "# Seleccionamos el vídeo y el frame\n",
    "movie_id = 102\n",
    "frame = 110\n",
    "\n",
    "frameVisualicer(dataset, movie_id, frame)"
   ]
  },
  {
   "cell_type": "code",
   "execution_count": 18,
   "metadata": {},
   "outputs": [],
   "source": [
    "# ------------------------------- #\n",
    "# Mostremos una película completa #\n",
    "# ------------------------------- #\n",
    "\n",
    "from tqdm import tqdm\n",
    "from  moviepy.editor import *\n",
    "\n",
    "# Parámetros\n",
    "FIGSIZE = [16, 9]\n",
    "RES = 1280 # 720p\n",
    "OUTPUT_IMGS_PATH = \"tmp\"\n",
    "OUTPUT_MOVIE_PATH = \"output\"\n",
    "\n",
    "def clean_dir(dir):\n",
    "  for f in os.listdir(dir):\n",
    "    os.remove(os.path.join(dir, f))\n",
    "\n",
    "def genMovie(movie_id, dataset,\n",
    "             figsize = FIGSIZE, res = RES, \n",
    "             output_imgs_path = OUTPUT_IMGS_PATH,\n",
    "             output_movie_path = OUTPUT_MOVIE_PATH):\n",
    "  # --------------------------------------------------------------------\n",
    "  # Indicamos los frames a mostrar\n",
    "  # ----------------------------------------------------------------------\n",
    "  frame_init, frame_end, n_frames = dataset.getMovieInfo(movie_id)\n",
    "  idxs = np.linspace(frame_init, frame_end, n_frames, dtype=int)\n",
    "\n",
    "  # ----------------------------------------------------------------------\n",
    "  # Generamos y guardamos todos las imágenes con su bounding box\n",
    "  # ----------------------------------------------------------------------\n",
    "\n",
    "  # Creamos los directorios de salida\n",
    "  try:\n",
    "    os.mkdir(output_movie_path)\n",
    "  except:\n",
    "    pass\n",
    "\n",
    "  try:\n",
    "    os.mkdir(output_imgs_path)\n",
    "    clean_dir(output_imgs_path)\n",
    "  except:\n",
    "    clean_dir(output_imgs_path)\n",
    "\n",
    "  # Renderizamos todos los frames\n",
    "  print(\"Generando imágenes... \")\n",
    "  for i in tqdm(range(len(idxs))):\n",
    "    fig = plt.figure(figsize=figsize, dpi=res/figsize[0])\n",
    "    ax = fig.add_subplot()\n",
    "    ax.axis('off')\n",
    "\n",
    "    img, target = dataset.frame(idxs[i])\n",
    "    movie_id, frame, total_movie_frames = dataset.getFrameInfo(idxs[i])\n",
    "    img_box = imgBoxes(img, target[\"boxes\"], target[\"labels\"])\n",
    "\n",
    "    img_frame = ax.imshow(img_box)\n",
    "    frame_text = ax.text(5, 10, \"Frame: {0:>4}/{1:<4}\".format(frame, total_movie_frames), c=\"g\")\n",
    "    movie_text = ax.text(5, 25, \"Movie: {}\".format(movie_id), c=\"g\")\n",
    "\n",
    "    plt.savefig(os.path.join(output_imgs_path, \"frame{}.{}\".format(str(i).zfill(5),\"png\")), \n",
    "                bbox_inches='tight', pad_inches = 0)\n",
    "    plt.close()\n",
    "\n",
    "  # Fusionamos todos los frames para generar un .mp4\n",
    "  image_files = list(sorted([os.path.join(output_imgs_path,img)\n",
    "                for img in os.listdir(output_imgs_path)\n",
    "                if img.endswith(\".png\")]))\n",
    "  clip = ImageSequenceClip(output_imgs_path, fps=25)\n",
    "  clip.write_videofile(os.path.join(output_movie_path, \"movie{}.mp4\".format(str(movie_id).zfill(3))))\n",
    "\n",
    "  # Eliminamos el directorio temporal\n",
    "  try:\n",
    "    clean_dir(output_imgs_path)\n",
    "    os.rmdir(output_imgs_path)\n",
    "  except:\n",
    "    pass"
   ]
  },
  {
   "cell_type": "code",
   "execution_count": 19,
   "metadata": {},
   "outputs": [
    {
     "name": "stdout",
     "output_type": "stream",
     "text": [
      "Generando imágenes... \n"
     ]
    },
    {
     "name": "stderr",
     "output_type": "stream",
     "text": [
      "100%|██████████| 834/834 [03:35<00:00,  3.86it/s]\n"
     ]
    },
    {
     "name": "stdout",
     "output_type": "stream",
     "text": [
      "Moviepy - Building video output\\movie034.mp4.\n",
      "Moviepy - Writing video output\\movie034.mp4\n",
      "\n"
     ]
    },
    {
     "name": "stderr",
     "output_type": "stream",
     "text": [
      "                                                              \r"
     ]
    },
    {
     "name": "stdout",
     "output_type": "stream",
     "text": [
      "Moviepy - Done !\n",
      "Moviepy - video ready output\\movie034.mp4\n"
     ]
    },
    {
     "ename": "",
     "evalue": "",
     "output_type": "error",
     "traceback": [
      "\u001b[1;31mThe Kernel crashed while executing code in the the current cell or a previous cell. Please review the code in the cell(s) to identify a possible cause of the failure. Click <a href='https://aka.ms/vscodeJupyterKernelCrash'>here</a> for more info. View Jupyter <a href='command:jupyter.viewOutput'>log</a> for further details."
     ]
    }
   ],
   "source": [
    "dataset = BIRDSAIDataset(DATA_PATH)\n",
    "\n",
    "# Generamos todas las películas\n",
    "for i in [34]:\n",
    "  genMovie(i, dataset)"
   ]
  }
 ],
 "metadata": {
  "kernelspec": {
   "display_name": "Python 3",
   "language": "python",
   "name": "python3"
  },
  "language_info": {
   "codemirror_mode": {
    "name": "ipython",
    "version": 3
   },
   "file_extension": ".py",
   "mimetype": "text/x-python",
   "name": "python",
   "nbconvert_exporter": "python",
   "pygments_lexer": "ipython3",
   "version": "3.10.0"
  },
  "orig_nbformat": 4
 },
 "nbformat": 4,
 "nbformat_minor": 2
}
