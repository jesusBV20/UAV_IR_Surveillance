{
 "cells": [
  {
   "cell_type": "code",
   "execution_count": 8,
   "metadata": {},
   "outputs": [],
   "source": [
    "DATA_PATH = \"D:\\Datos\\TrainSimulation\""
   ]
  },
  {
   "cell_type": "code",
   "execution_count": 10,
   "metadata": {},
   "outputs": [
    {
     "name": "stderr",
     "output_type": "stream",
     "text": [
      "100%|██████████| 124/124 [18:26<00:00,  8.92s/it]\n"
     ]
    }
   ],
   "source": [
    "import os\n",
    "import re \n",
    "from tqdm import tqdm\n",
    "\n",
    "movies_path = os.path.join(DATA_PATH, \"images\")\n",
    "movies_dirs = os.listdir(movies_path)\n",
    "\n",
    "for movie in tqdm(movies_dirs):\n",
    "    movie_path = os.path.join(movies_path, movie)\n",
    "    for f in os.listdir(movie_path):\n",
    "        if (re.findall(\".png+\", f)):\n",
    "            os.remove(os.path.join(movie_path, f))\n",
    "\n",
    "        elif (re.findall(\"^rgb+\", f)):\n",
    "            os.remove(os.path.join(movie_path, f))\n",
    "\n",
    "        elif (re.findall(\"^seg+\", f)):\n",
    "            os.remove(os.path.join(movie_path, f))"
   ]
  }
 ],
 "metadata": {
  "kernelspec": {
   "display_name": "Python 3",
   "language": "python",
   "name": "python3"
  },
  "language_info": {
   "codemirror_mode": {
    "name": "ipython",
    "version": 3
   },
   "file_extension": ".py",
   "mimetype": "text/x-python",
   "name": "python",
   "nbconvert_exporter": "python",
   "pygments_lexer": "ipython3",
   "version": "3.10.0"
  },
  "orig_nbformat": 4
 },
 "nbformat": 4,
 "nbformat_minor": 2
}
